{
 "cells": [
  {
   "cell_type": "code",
   "execution_count": 3,
   "metadata": {},
   "outputs": [],
   "source": [
    "import pandas as pd"
   ]
  },
  {
   "cell_type": "code",
   "execution_count": 6,
   "metadata": {},
   "outputs": [],
   "source": [
    "data_frame = pd.read_csv(r'/Users/pasindumalinda/Documents/python project/machine learning work shop/CO2_level_prediction/air_quality_hourly_data_Colombo_METDept.csv')"
   ]
  },
  {
   "cell_type": "markdown",
   "metadata": {},
   "source": [
    "Explore Dataset\n"
   ]
  },
  {
   "cell_type": "code",
   "execution_count": 7,
   "metadata": {},
   "outputs": [
    {
     "data": {
      "text/html": [
       "<div>\n",
       "<style scoped>\n",
       "    .dataframe tbody tr th:only-of-type {\n",
       "        vertical-align: middle;\n",
       "    }\n",
       "\n",
       "    .dataframe tbody tr th {\n",
       "        vertical-align: top;\n",
       "    }\n",
       "\n",
       "    .dataframe thead th {\n",
       "        text-align: right;\n",
       "    }\n",
       "</style>\n",
       "<table border=\"1\" class=\"dataframe\">\n",
       "  <thead>\n",
       "    <tr style=\"text-align: right;\">\n",
       "      <th></th>\n",
       "      <th>Unnamed: 0</th>\n",
       "      <th>Time</th>\n",
       "      <th>CO2</th>\n",
       "    </tr>\n",
       "  </thead>\n",
       "  <tbody>\n",
       "    <tr>\n",
       "      <th>0</th>\n",
       "      <td>0</td>\n",
       "      <td>2022-12-21 00:00:00</td>\n",
       "      <td>562</td>\n",
       "    </tr>\n",
       "    <tr>\n",
       "      <th>1</th>\n",
       "      <td>1</td>\n",
       "      <td>2022-12-21 01:00:00</td>\n",
       "      <td>511</td>\n",
       "    </tr>\n",
       "    <tr>\n",
       "      <th>2</th>\n",
       "      <td>2</td>\n",
       "      <td>2022-12-21 02:00:00</td>\n",
       "      <td>511</td>\n",
       "    </tr>\n",
       "    <tr>\n",
       "      <th>3</th>\n",
       "      <td>3</td>\n",
       "      <td>2022-12-21 03:00:00</td>\n",
       "      <td>507</td>\n",
       "    </tr>\n",
       "    <tr>\n",
       "      <th>4</th>\n",
       "      <td>4</td>\n",
       "      <td>2022-12-21 04:00:00</td>\n",
       "      <td>498</td>\n",
       "    </tr>\n",
       "  </tbody>\n",
       "</table>\n",
       "</div>"
      ],
      "text/plain": [
       "   Unnamed: 0                 Time  CO2\n",
       "0           0  2022-12-21 00:00:00  562\n",
       "1           1  2022-12-21 01:00:00  511\n",
       "2           2  2022-12-21 02:00:00  511\n",
       "3           3  2022-12-21 03:00:00  507\n",
       "4           4  2022-12-21 04:00:00  498"
      ]
     },
     "execution_count": 7,
     "metadata": {},
     "output_type": "execute_result"
    }
   ],
   "source": [
    "data_frame.head()"
   ]
  },
  {
   "cell_type": "code",
   "execution_count": 12,
   "metadata": {},
   "outputs": [
    {
     "data": {
      "text/html": [
       "<div>\n",
       "<style scoped>\n",
       "    .dataframe tbody tr th:only-of-type {\n",
       "        vertical-align: middle;\n",
       "    }\n",
       "\n",
       "    .dataframe tbody tr th {\n",
       "        vertical-align: top;\n",
       "    }\n",
       "\n",
       "    .dataframe thead th {\n",
       "        text-align: right;\n",
       "    }\n",
       "</style>\n",
       "<table border=\"1\" class=\"dataframe\">\n",
       "  <thead>\n",
       "    <tr style=\"text-align: right;\">\n",
       "      <th></th>\n",
       "      <th>Unnamed: 0</th>\n",
       "      <th>Time</th>\n",
       "      <th>CO2</th>\n",
       "    </tr>\n",
       "  </thead>\n",
       "  <tbody>\n",
       "    <tr>\n",
       "      <th>5938</th>\n",
       "      <td>5938</td>\n",
       "      <td>2024-03-21 09:00:00</td>\n",
       "      <td>MF</td>\n",
       "    </tr>\n",
       "    <tr>\n",
       "      <th>5939</th>\n",
       "      <td>5939</td>\n",
       "      <td>2024-03-21 10:00:00</td>\n",
       "      <td>MF</td>\n",
       "    </tr>\n",
       "    <tr>\n",
       "      <th>5940</th>\n",
       "      <td>5940</td>\n",
       "      <td>2024-03-21 11:00:00</td>\n",
       "      <td>MF</td>\n",
       "    </tr>\n",
       "    <tr>\n",
       "      <th>5941</th>\n",
       "      <td>5941</td>\n",
       "      <td>2024-03-21 12:00:00</td>\n",
       "      <td>MF</td>\n",
       "    </tr>\n",
       "    <tr>\n",
       "      <th>5942</th>\n",
       "      <td>5942</td>\n",
       "      <td>2024-03-21 13:00:00</td>\n",
       "      <td>MF</td>\n",
       "    </tr>\n",
       "  </tbody>\n",
       "</table>\n",
       "</div>"
      ],
      "text/plain": [
       "      Unnamed: 0                 Time CO2\n",
       "5938        5938  2024-03-21 09:00:00  MF\n",
       "5939        5939  2024-03-21 10:00:00  MF\n",
       "5940        5940  2024-03-21 11:00:00  MF\n",
       "5941        5941  2024-03-21 12:00:00  MF\n",
       "5942        5942  2024-03-21 13:00:00  MF"
      ]
     },
     "execution_count": 12,
     "metadata": {},
     "output_type": "execute_result"
    }
   ],
   "source": [
    "data_frame.tail()"
   ]
  },
  {
   "cell_type": "code",
   "execution_count": 13,
   "metadata": {},
   "outputs": [
    {
     "name": "stdout",
     "output_type": "stream",
     "text": [
      "<class 'pandas.core.frame.DataFrame'>\n",
      "RangeIndex: 5943 entries, 0 to 5942\n",
      "Data columns (total 3 columns):\n",
      " #   Column      Non-Null Count  Dtype \n",
      "---  ------      --------------  ----- \n",
      " 0   Unnamed: 0  5943 non-null   int64 \n",
      " 1   Time        5943 non-null   object\n",
      " 2   CO2         5731 non-null   object\n",
      "dtypes: int64(1), object(2)\n",
      "memory usage: 139.4+ KB\n"
     ]
    }
   ],
   "source": [
    "data_frame.info()"
   ]
  },
  {
   "cell_type": "code",
   "execution_count": 14,
   "metadata": {},
   "outputs": [
    {
     "data": {
      "text/html": [
       "<div>\n",
       "<style scoped>\n",
       "    .dataframe tbody tr th:only-of-type {\n",
       "        vertical-align: middle;\n",
       "    }\n",
       "\n",
       "    .dataframe tbody tr th {\n",
       "        vertical-align: top;\n",
       "    }\n",
       "\n",
       "    .dataframe thead th {\n",
       "        text-align: right;\n",
       "    }\n",
       "</style>\n",
       "<table border=\"1\" class=\"dataframe\">\n",
       "  <thead>\n",
       "    <tr style=\"text-align: right;\">\n",
       "      <th></th>\n",
       "      <th>Unnamed: 0</th>\n",
       "    </tr>\n",
       "  </thead>\n",
       "  <tbody>\n",
       "    <tr>\n",
       "      <th>count</th>\n",
       "      <td>5943.000000</td>\n",
       "    </tr>\n",
       "    <tr>\n",
       "      <th>mean</th>\n",
       "      <td>2971.000000</td>\n",
       "    </tr>\n",
       "    <tr>\n",
       "      <th>std</th>\n",
       "      <td>1715.740656</td>\n",
       "    </tr>\n",
       "    <tr>\n",
       "      <th>min</th>\n",
       "      <td>0.000000</td>\n",
       "    </tr>\n",
       "    <tr>\n",
       "      <th>25%</th>\n",
       "      <td>1485.500000</td>\n",
       "    </tr>\n",
       "    <tr>\n",
       "      <th>50%</th>\n",
       "      <td>2971.000000</td>\n",
       "    </tr>\n",
       "    <tr>\n",
       "      <th>75%</th>\n",
       "      <td>4456.500000</td>\n",
       "    </tr>\n",
       "    <tr>\n",
       "      <th>max</th>\n",
       "      <td>5942.000000</td>\n",
       "    </tr>\n",
       "  </tbody>\n",
       "</table>\n",
       "</div>"
      ],
      "text/plain": [
       "        Unnamed: 0\n",
       "count  5943.000000\n",
       "mean   2971.000000\n",
       "std    1715.740656\n",
       "min       0.000000\n",
       "25%    1485.500000\n",
       "50%    2971.000000\n",
       "75%    4456.500000\n",
       "max    5942.000000"
      ]
     },
     "execution_count": 14,
     "metadata": {},
     "output_type": "execute_result"
    }
   ],
   "source": [
    "data_frame.describe()"
   ]
  },
  {
   "cell_type": "code",
   "execution_count": 15,
   "metadata": {},
   "outputs": [
    {
     "data": {
      "text/plain": [
       "(5943, 3)"
      ]
     },
     "execution_count": 15,
     "metadata": {},
     "output_type": "execute_result"
    }
   ],
   "source": [
    "data_frame.shape"
   ]
  },
  {
   "cell_type": "code",
   "execution_count": 16,
   "metadata": {},
   "outputs": [
    {
     "name": "stdout",
     "output_type": "stream",
     "text": [
      "Unnamed: 0    5943\n",
      "Time          5943\n",
      "CO2            238\n",
      "dtype: int64\n"
     ]
    }
   ],
   "source": [
    "unique_values = data_frame.nunique()\n",
    "print(unique_values)"
   ]
  },
  {
   "cell_type": "code",
   "execution_count": 17,
   "metadata": {},
   "outputs": [
    {
     "data": {
      "text/html": [
       "<div>\n",
       "<style scoped>\n",
       "    .dataframe tbody tr th:only-of-type {\n",
       "        vertical-align: middle;\n",
       "    }\n",
       "\n",
       "    .dataframe tbody tr th {\n",
       "        vertical-align: top;\n",
       "    }\n",
       "\n",
       "    .dataframe thead th {\n",
       "        text-align: right;\n",
       "    }\n",
       "</style>\n",
       "<table border=\"1\" class=\"dataframe\">\n",
       "  <thead>\n",
       "    <tr style=\"text-align: right;\">\n",
       "      <th></th>\n",
       "      <th>Time</th>\n",
       "      <th>CO2</th>\n",
       "    </tr>\n",
       "  </thead>\n",
       "  <tbody>\n",
       "    <tr>\n",
       "      <th>0</th>\n",
       "      <td>2022-12-21 00:00:00</td>\n",
       "      <td>562</td>\n",
       "    </tr>\n",
       "    <tr>\n",
       "      <th>1</th>\n",
       "      <td>2022-12-21 01:00:00</td>\n",
       "      <td>511</td>\n",
       "    </tr>\n",
       "    <tr>\n",
       "      <th>2</th>\n",
       "      <td>2022-12-21 02:00:00</td>\n",
       "      <td>511</td>\n",
       "    </tr>\n",
       "    <tr>\n",
       "      <th>3</th>\n",
       "      <td>2022-12-21 03:00:00</td>\n",
       "      <td>507</td>\n",
       "    </tr>\n",
       "    <tr>\n",
       "      <th>4</th>\n",
       "      <td>2022-12-21 04:00:00</td>\n",
       "      <td>498</td>\n",
       "    </tr>\n",
       "  </tbody>\n",
       "</table>\n",
       "</div>"
      ],
      "text/plain": [
       "                  Time  CO2\n",
       "0  2022-12-21 00:00:00  562\n",
       "1  2022-12-21 01:00:00  511\n",
       "2  2022-12-21 02:00:00  511\n",
       "3  2022-12-21 03:00:00  507\n",
       "4  2022-12-21 04:00:00  498"
      ]
     },
     "execution_count": 17,
     "metadata": {},
     "output_type": "execute_result"
    }
   ],
   "source": [
    "data_frame02 = data_frame.drop(['Unnamed: 0'], axis = 'columns')\n",
    "data_frame02.head()"
   ]
  },
  {
   "cell_type": "markdown",
   "metadata": {},
   "source": [
    "Clean our dataset"
   ]
  },
  {
   "cell_type": "code",
   "execution_count": 18,
   "metadata": {},
   "outputs": [
    {
     "data": {
      "text/plain": [
       "Time      0\n",
       "CO2     212\n",
       "dtype: int64"
      ]
     },
     "execution_count": 18,
     "metadata": {},
     "output_type": "execute_result"
    }
   ],
   "source": [
    "data_frame02.isnull().sum()"
   ]
  },
  {
   "cell_type": "code",
   "execution_count": 19,
   "metadata": {},
   "outputs": [
    {
     "name": "stdout",
     "output_type": "stream",
     "text": [
      "Time    0\n",
      "CO2     0\n",
      "dtype: int64\n"
     ]
    }
   ],
   "source": [
    "data_frame03 = data_frame02.dropna()\n",
    "\n",
    "print(data_frame03.isnull().sum())"
   ]
  },
  {
   "cell_type": "code",
   "execution_count": 20,
   "metadata": {},
   "outputs": [
    {
     "name": "stderr",
     "output_type": "stream",
     "text": [
      "C:\\Users\\MyPlus\\AppData\\Local\\Temp\\ipykernel_15968\\1166930840.py:1: SettingWithCopyWarning: \n",
      "A value is trying to be set on a copy of a slice from a DataFrame.\n",
      "Try using .loc[row_indexer,col_indexer] = value instead\n",
      "\n",
      "See the caveats in the documentation: https://pandas.pydata.org/pandas-docs/stable/user_guide/indexing.html#returning-a-view-versus-a-copy\n",
      "  data_frame03['CO2'] = pd.to_numeric(data_frame03['CO2'], errors = 'coerce')\n"
     ]
    }
   ],
   "source": [
    "data_frame03['CO2'] = pd.to_numeric(data_frame03['CO2'], errors = 'coerce')"
   ]
  },
  {
   "cell_type": "code",
   "execution_count": 21,
   "metadata": {},
   "outputs": [
    {
     "name": "stderr",
     "output_type": "stream",
     "text": [
      "C:\\Users\\MyPlus\\AppData\\Local\\Temp\\ipykernel_15968\\3860380396.py:1: SettingWithCopyWarning: \n",
      "A value is trying to be set on a copy of a slice from a DataFrame.\n",
      "Try using .loc[row_indexer,col_indexer] = value instead\n",
      "\n",
      "See the caveats in the documentation: https://pandas.pydata.org/pandas-docs/stable/user_guide/indexing.html#returning-a-view-versus-a-copy\n",
      "  data_frame03['Time'] = pd.to_datetime(data_frame03['Time'], format = 'mixed', errors = 'coerce')\n"
     ]
    }
   ],
   "source": [
    "data_frame03['Time'] = pd.to_datetime(data_frame03['Time'], format = 'mixed', errors = 'coerce')"
   ]
  },
  {
   "cell_type": "code",
   "execution_count": 22,
   "metadata": {},
   "outputs": [
    {
     "name": "stdout",
     "output_type": "stream",
     "text": [
      "<class 'pandas.core.frame.DataFrame'>\n",
      "Index: 5731 entries, 0 to 5942\n",
      "Data columns (total 2 columns):\n",
      " #   Column  Non-Null Count  Dtype         \n",
      "---  ------  --------------  -----         \n",
      " 0   Time    5731 non-null   datetime64[ns]\n",
      " 1   CO2     3083 non-null   float64       \n",
      "dtypes: datetime64[ns](1), float64(1)\n",
      "memory usage: 134.3 KB\n",
      "None\n"
     ]
    }
   ],
   "source": [
    "print(data_frame03.info())"
   ]
  },
  {
   "cell_type": "code",
   "execution_count": 23,
   "metadata": {},
   "outputs": [
    {
     "name": "stdout",
     "output_type": "stream",
     "text": [
      "Time       0\n",
      "CO2     2648\n",
      "dtype: int64\n"
     ]
    }
   ],
   "source": [
    "print(data_frame03.isnull().sum())"
   ]
  },
  {
   "cell_type": "code",
   "execution_count": 24,
   "metadata": {},
   "outputs": [
    {
     "name": "stdout",
     "output_type": "stream",
     "text": [
      "Time    0\n",
      "CO2     0\n",
      "dtype: int64\n"
     ]
    }
   ],
   "source": [
    "data_frame04 = data_frame03.dropna()\n",
    "\n",
    "print(data_frame04.isnull().sum())"
   ]
  },
  {
   "cell_type": "code",
   "execution_count": 25,
   "metadata": {},
   "outputs": [
    {
     "data": {
      "text/plain": [
       "(3083, 2)"
      ]
     },
     "execution_count": 25,
     "metadata": {},
     "output_type": "execute_result"
    }
   ],
   "source": [
    "data_frame04.shape"
   ]
  },
  {
   "cell_type": "markdown",
   "metadata": {},
   "source": [
    "Data Visualization "
   ]
  },
  {
   "cell_type": "code",
   "execution_count": 26,
   "metadata": {},
   "outputs": [
    {
     "data": {
      "image/png": "[encoded data removed]",
      "text/plain": [
       "<Figure size 1000x600 with 1 Axes>"
      ]
     },
     "metadata": {},
     "output_type": "display_data"
    }
   ],
   "source": [
    "import matplotlib.pyplot as plt\n",
    "\n",
    "fig, axs = plt.subplots(1, 1, figsize=(10, 6))\n",
    "axs.plot(data_frame04['Time'], data_frame04['CO2'], color='blue', marker='o')\n",
    "axs.set_title('CO2 Concentration')\n",
    "axs.set_ylabel('CO2 (ppm)')\n",
    "axs.grid(True)\n",
    "\n",
    "plt.tight_layout()\n",
    "plt.show()"
   ]
  },
  {
   "cell_type": "code",
   "execution_count": 27,
   "metadata": {},
   "outputs": [
    {
     "name": "stderr",
     "output_type": "stream",
     "text": [
      "C:\\Users\\MyPlus\\AppData\\Local\\Temp\\ipykernel_15968\\683225876.py:1: SettingWithCopyWarning: \n",
      "A value is trying to be set on a copy of a slice from a DataFrame.\n",
      "Try using .loc[row_indexer,col_indexer] = value instead\n",
      "\n",
      "See the caveats in the documentation: https://pandas.pydata.org/pandas-docs/stable/user_guide/indexing.html#returning-a-view-versus-a-copy\n",
      "  data_frame04['TimeDelta'] = data_frame04['Time'].diff()\n"
     ]
    },
    {
     "data": {
      "text/html": [
       "<div>\n",
       "<style scoped>\n",
       "    .dataframe tbody tr th:only-of-type {\n",
       "        vertical-align: middle;\n",
       "    }\n",
       "\n",
       "    .dataframe tbody tr th {\n",
       "        vertical-align: top;\n",
       "    }\n",
       "\n",
       "    .dataframe thead th {\n",
       "        text-align: right;\n",
       "    }\n",
       "</style>\n",
       "<table border=\"1\" class=\"dataframe\">\n",
       "  <thead>\n",
       "    <tr style=\"text-align: right;\">\n",
       "      <th></th>\n",
       "      <th>Time</th>\n",
       "      <th>CO2</th>\n",
       "      <th>TimeDelta</th>\n",
       "    </tr>\n",
       "  </thead>\n",
       "  <tbody>\n",
       "    <tr>\n",
       "      <th>0</th>\n",
       "      <td>2022-12-21 00:00:00</td>\n",
       "      <td>562.0</td>\n",
       "      <td>NaT</td>\n",
       "    </tr>\n",
       "    <tr>\n",
       "      <th>1</th>\n",
       "      <td>2022-12-21 01:00:00</td>\n",
       "      <td>511.0</td>\n",
       "      <td>0 days 01:00:00</td>\n",
       "    </tr>\n",
       "    <tr>\n",
       "      <th>2</th>\n",
       "      <td>2022-12-21 02:00:00</td>\n",
       "      <td>511.0</td>\n",
       "      <td>0 days 01:00:00</td>\n",
       "    </tr>\n",
       "    <tr>\n",
       "      <th>3</th>\n",
       "      <td>2022-12-21 03:00:00</td>\n",
       "      <td>507.0</td>\n",
       "      <td>0 days 01:00:00</td>\n",
       "    </tr>\n",
       "    <tr>\n",
       "      <th>4</th>\n",
       "      <td>2022-12-21 04:00:00</td>\n",
       "      <td>498.0</td>\n",
       "      <td>0 days 01:00:00</td>\n",
       "    </tr>\n",
       "    <tr>\n",
       "      <th>...</th>\n",
       "      <td>...</td>\n",
       "      <td>...</td>\n",
       "      <td>...</td>\n",
       "    </tr>\n",
       "    <tr>\n",
       "      <th>3291</th>\n",
       "      <td>2023-10-23 04:00:00</td>\n",
       "      <td>410.0</td>\n",
       "      <td>0 days 01:00:00</td>\n",
       "    </tr>\n",
       "    <tr>\n",
       "      <th>3292</th>\n",
       "      <td>2023-10-23 05:00:00</td>\n",
       "      <td>410.0</td>\n",
       "      <td>0 days 01:00:00</td>\n",
       "    </tr>\n",
       "    <tr>\n",
       "      <th>3293</th>\n",
       "      <td>2023-10-23 06:00:00</td>\n",
       "      <td>410.0</td>\n",
       "      <td>0 days 01:00:00</td>\n",
       "    </tr>\n",
       "    <tr>\n",
       "      <th>3294</th>\n",
       "      <td>2023-10-23 07:00:00</td>\n",
       "      <td>410.0</td>\n",
       "      <td>0 days 01:00:00</td>\n",
       "    </tr>\n",
       "    <tr>\n",
       "      <th>3295</th>\n",
       "      <td>2023-10-24 12:00:00</td>\n",
       "      <td>766.0</td>\n",
       "      <td>1 days 05:00:00</td>\n",
       "    </tr>\n",
       "  </tbody>\n",
       "</table>\n",
       "<p>3083 rows × 3 columns</p>\n",
       "</div>"
      ],
      "text/plain": [
       "                    Time    CO2       TimeDelta\n",
       "0    2022-12-21 00:00:00  562.0             NaT\n",
       "1    2022-12-21 01:00:00  511.0 0 days 01:00:00\n",
       "2    2022-12-21 02:00:00  511.0 0 days 01:00:00\n",
       "3    2022-12-21 03:00:00  507.0 0 days 01:00:00\n",
       "4    2022-12-21 04:00:00  498.0 0 days 01:00:00\n",
       "...                  ...    ...             ...\n",
       "3291 2023-10-23 04:00:00  410.0 0 days 01:00:00\n",
       "3292 2023-10-23 05:00:00  410.0 0 days 01:00:00\n",
       "3293 2023-10-23 06:00:00  410.0 0 days 01:00:00\n",
       "3294 2023-10-23 07:00:00  410.0 0 days 01:00:00\n",
       "3295 2023-10-24 12:00:00  766.0 1 days 05:00:00\n",
       "\n",
       "[3083 rows x 3 columns]"
      ]
     },
     "execution_count": 27,
     "metadata": {},
     "output_type": "execute_result"
    }
   ],
   "source": [
    "data_frame04['TimeDelta'] = data_frame04['Time'].diff()\n",
    "\n",
    "data_frame04"
   ]
  },
  {
   "cell_type": "code",
   "execution_count": 28,
   "metadata": {},
   "outputs": [],
   "source": [
    "continuous_rows = data_frame04.copy()"
   ]
  },
  {
   "cell_type": "code",
   "execution_count": 29,
   "metadata": {},
   "outputs": [],
   "source": [
    "continuous_rows = continuous_rows[continuous_rows['TimeDelta'] == pd.Timedelta(hours= 1)]"
   ]
  },
  {
   "cell_type": "code",
   "execution_count": 30,
   "metadata": {},
   "outputs": [
    {
     "data": {
      "text/html": [
       "<div>\n",
       "<style scoped>\n",
       "    .dataframe tbody tr th:only-of-type {\n",
       "        vertical-align: middle;\n",
       "    }\n",
       "\n",
       "    .dataframe tbody tr th {\n",
       "        vertical-align: top;\n",
       "    }\n",
       "\n",
       "    .dataframe thead th {\n",
       "        text-align: right;\n",
       "    }\n",
       "</style>\n",
       "<table border=\"1\" class=\"dataframe\">\n",
       "  <thead>\n",
       "    <tr style=\"text-align: right;\">\n",
       "      <th></th>\n",
       "      <th>Time</th>\n",
       "      <th>CO2</th>\n",
       "      <th>TimeDelta</th>\n",
       "      <th>index_diff</th>\n",
       "    </tr>\n",
       "  </thead>\n",
       "  <tbody>\n",
       "    <tr>\n",
       "      <th>1</th>\n",
       "      <td>2022-12-21 01:00:00</td>\n",
       "      <td>511.0</td>\n",
       "      <td>0 days 01:00:00</td>\n",
       "      <td>NaN</td>\n",
       "    </tr>\n",
       "    <tr>\n",
       "      <th>2</th>\n",
       "      <td>2022-12-21 02:00:00</td>\n",
       "      <td>511.0</td>\n",
       "      <td>0 days 01:00:00</td>\n",
       "      <td>1.0</td>\n",
       "    </tr>\n",
       "    <tr>\n",
       "      <th>3</th>\n",
       "      <td>2022-12-21 03:00:00</td>\n",
       "      <td>507.0</td>\n",
       "      <td>0 days 01:00:00</td>\n",
       "      <td>1.0</td>\n",
       "    </tr>\n",
       "    <tr>\n",
       "      <th>4</th>\n",
       "      <td>2022-12-21 04:00:00</td>\n",
       "      <td>498.0</td>\n",
       "      <td>0 days 01:00:00</td>\n",
       "      <td>1.0</td>\n",
       "    </tr>\n",
       "    <tr>\n",
       "      <th>5</th>\n",
       "      <td>2022-12-21 05:00:00</td>\n",
       "      <td>591.0</td>\n",
       "      <td>0 days 01:00:00</td>\n",
       "      <td>1.0</td>\n",
       "    </tr>\n",
       "    <tr>\n",
       "      <th>...</th>\n",
       "      <td>...</td>\n",
       "      <td>...</td>\n",
       "      <td>...</td>\n",
       "      <td>...</td>\n",
       "    </tr>\n",
       "    <tr>\n",
       "      <th>3290</th>\n",
       "      <td>2023-10-23 03:00:00</td>\n",
       "      <td>410.0</td>\n",
       "      <td>0 days 01:00:00</td>\n",
       "      <td>1.0</td>\n",
       "    </tr>\n",
       "    <tr>\n",
       "      <th>3291</th>\n",
       "      <td>2023-10-23 04:00:00</td>\n",
       "      <td>410.0</td>\n",
       "      <td>0 days 01:00:00</td>\n",
       "      <td>1.0</td>\n",
       "    </tr>\n",
       "    <tr>\n",
       "      <th>3292</th>\n",
       "      <td>2023-10-23 05:00:00</td>\n",
       "      <td>410.0</td>\n",
       "      <td>0 days 01:00:00</td>\n",
       "      <td>1.0</td>\n",
       "    </tr>\n",
       "    <tr>\n",
       "      <th>3293</th>\n",
       "      <td>2023-10-23 06:00:00</td>\n",
       "      <td>410.0</td>\n",
       "      <td>0 days 01:00:00</td>\n",
       "      <td>1.0</td>\n",
       "    </tr>\n",
       "    <tr>\n",
       "      <th>3294</th>\n",
       "      <td>2023-10-23 07:00:00</td>\n",
       "      <td>410.0</td>\n",
       "      <td>0 days 01:00:00</td>\n",
       "      <td>1.0</td>\n",
       "    </tr>\n",
       "  </tbody>\n",
       "</table>\n",
       "<p>2950 rows × 4 columns</p>\n",
       "</div>"
      ],
      "text/plain": [
       "                    Time    CO2       TimeDelta  index_diff\n",
       "1    2022-12-21 01:00:00  511.0 0 days 01:00:00         NaN\n",
       "2    2022-12-21 02:00:00  511.0 0 days 01:00:00         1.0\n",
       "3    2022-12-21 03:00:00  507.0 0 days 01:00:00         1.0\n",
       "4    2022-12-21 04:00:00  498.0 0 days 01:00:00         1.0\n",
       "5    2022-12-21 05:00:00  591.0 0 days 01:00:00         1.0\n",
       "...                  ...    ...             ...         ...\n",
       "3290 2023-10-23 03:00:00  410.0 0 days 01:00:00         1.0\n",
       "3291 2023-10-23 04:00:00  410.0 0 days 01:00:00         1.0\n",
       "3292 2023-10-23 05:00:00  410.0 0 days 01:00:00         1.0\n",
       "3293 2023-10-23 06:00:00  410.0 0 days 01:00:00         1.0\n",
       "3294 2023-10-23 07:00:00  410.0 0 days 01:00:00         1.0\n",
       "\n",
       "[2950 rows x 4 columns]"
      ]
     },
     "execution_count": 30,
     "metadata": {},
     "output_type": "execute_result"
    }
   ],
   "source": [
    "continuous_rows['index_diff'] = continuous_rows.index.diff()\n",
    "\n",
    "continuous_rows"
   ]
  },
  {
   "cell_type": "code",
   "execution_count": 31,
   "metadata": {},
   "outputs": [
    {
     "data": {
      "text/html": [
       "<div>\n",
       "<style scoped>\n",
       "    .dataframe tbody tr th:only-of-type {\n",
       "        vertical-align: middle;\n",
       "    }\n",
       "\n",
       "    .dataframe tbody tr th {\n",
       "        vertical-align: top;\n",
       "    }\n",
       "\n",
       "    .dataframe thead th {\n",
       "        text-align: right;\n",
       "    }\n",
       "</style>\n",
       "<table border=\"1\" class=\"dataframe\">\n",
       "  <thead>\n",
       "    <tr style=\"text-align: right;\">\n",
       "      <th></th>\n",
       "      <th>Time</th>\n",
       "      <th>CO2</th>\n",
       "      <th>TimeDelta</th>\n",
       "      <th>index_diff</th>\n",
       "      <th>group</th>\n",
       "    </tr>\n",
       "  </thead>\n",
       "  <tbody>\n",
       "    <tr>\n",
       "      <th>1</th>\n",
       "      <td>2022-12-21 01:00:00</td>\n",
       "      <td>511.0</td>\n",
       "      <td>0 days 01:00:00</td>\n",
       "      <td>NaN</td>\n",
       "      <td>1</td>\n",
       "    </tr>\n",
       "    <tr>\n",
       "      <th>2</th>\n",
       "      <td>2022-12-21 02:00:00</td>\n",
       "      <td>511.0</td>\n",
       "      <td>0 days 01:00:00</td>\n",
       "      <td>1.0</td>\n",
       "      <td>1</td>\n",
       "    </tr>\n",
       "    <tr>\n",
       "      <th>3</th>\n",
       "      <td>2022-12-21 03:00:00</td>\n",
       "      <td>507.0</td>\n",
       "      <td>0 days 01:00:00</td>\n",
       "      <td>1.0</td>\n",
       "      <td>1</td>\n",
       "    </tr>\n",
       "    <tr>\n",
       "      <th>4</th>\n",
       "      <td>2022-12-21 04:00:00</td>\n",
       "      <td>498.0</td>\n",
       "      <td>0 days 01:00:00</td>\n",
       "      <td>1.0</td>\n",
       "      <td>1</td>\n",
       "    </tr>\n",
       "    <tr>\n",
       "      <th>5</th>\n",
       "      <td>2022-12-21 05:00:00</td>\n",
       "      <td>591.0</td>\n",
       "      <td>0 days 01:00:00</td>\n",
       "      <td>1.0</td>\n",
       "      <td>1</td>\n",
       "    </tr>\n",
       "    <tr>\n",
       "      <th>...</th>\n",
       "      <td>...</td>\n",
       "      <td>...</td>\n",
       "      <td>...</td>\n",
       "      <td>...</td>\n",
       "      <td>...</td>\n",
       "    </tr>\n",
       "    <tr>\n",
       "      <th>3290</th>\n",
       "      <td>2023-10-23 03:00:00</td>\n",
       "      <td>410.0</td>\n",
       "      <td>0 days 01:00:00</td>\n",
       "      <td>1.0</td>\n",
       "      <td>123</td>\n",
       "    </tr>\n",
       "    <tr>\n",
       "      <th>3291</th>\n",
       "      <td>2023-10-23 04:00:00</td>\n",
       "      <td>410.0</td>\n",
       "      <td>0 days 01:00:00</td>\n",
       "      <td>1.0</td>\n",
       "      <td>123</td>\n",
       "    </tr>\n",
       "    <tr>\n",
       "      <th>3292</th>\n",
       "      <td>2023-10-23 05:00:00</td>\n",
       "      <td>410.0</td>\n",
       "      <td>0 days 01:00:00</td>\n",
       "      <td>1.0</td>\n",
       "      <td>123</td>\n",
       "    </tr>\n",
       "    <tr>\n",
       "      <th>3293</th>\n",
       "      <td>2023-10-23 06:00:00</td>\n",
       "      <td>410.0</td>\n",
       "      <td>0 days 01:00:00</td>\n",
       "      <td>1.0</td>\n",
       "      <td>123</td>\n",
       "    </tr>\n",
       "    <tr>\n",
       "      <th>3294</th>\n",
       "      <td>2023-10-23 07:00:00</td>\n",
       "      <td>410.0</td>\n",
       "      <td>0 days 01:00:00</td>\n",
       "      <td>1.0</td>\n",
       "      <td>123</td>\n",
       "    </tr>\n",
       "  </tbody>\n",
       "</table>\n",
       "<p>2950 rows × 5 columns</p>\n",
       "</div>"
      ],
      "text/plain": [
       "                    Time    CO2       TimeDelta  index_diff  group\n",
       "1    2022-12-21 01:00:00  511.0 0 days 01:00:00         NaN      1\n",
       "2    2022-12-21 02:00:00  511.0 0 days 01:00:00         1.0      1\n",
       "3    2022-12-21 03:00:00  507.0 0 days 01:00:00         1.0      1\n",
       "4    2022-12-21 04:00:00  498.0 0 days 01:00:00         1.0      1\n",
       "5    2022-12-21 05:00:00  591.0 0 days 01:00:00         1.0      1\n",
       "...                  ...    ...             ...         ...    ...\n",
       "3290 2023-10-23 03:00:00  410.0 0 days 01:00:00         1.0    123\n",
       "3291 2023-10-23 04:00:00  410.0 0 days 01:00:00         1.0    123\n",
       "3292 2023-10-23 05:00:00  410.0 0 days 01:00:00         1.0    123\n",
       "3293 2023-10-23 06:00:00  410.0 0 days 01:00:00         1.0    123\n",
       "3294 2023-10-23 07:00:00  410.0 0 days 01:00:00         1.0    123\n",
       "\n",
       "[2950 rows x 5 columns]"
      ]
     },
     "execution_count": 31,
     "metadata": {},
     "output_type": "execute_result"
    }
   ],
   "source": [
    "continuous_rows['group'] = (continuous_rows['index_diff'] != 1).cumsum()\n",
    "\n",
    "continuous_rows"
   ]
  },
  {
   "cell_type": "code",
   "execution_count": 32,
   "metadata": {},
   "outputs": [
    {
     "data": {
      "text/plain": [
       "4"
      ]
     },
     "execution_count": 32,
     "metadata": {},
     "output_type": "execute_result"
    }
   ],
   "source": [
    "largest_group = continuous_rows['group'].value_counts().idxmax()\n",
    "\n",
    "largest_group"
   ]
  },
  {
   "cell_type": "code",
   "execution_count": 33,
   "metadata": {},
   "outputs": [
    {
     "data": {
      "text/html": [
       "<div>\n",
       "<style scoped>\n",
       "    .dataframe tbody tr th:only-of-type {\n",
       "        vertical-align: middle;\n",
       "    }\n",
       "\n",
       "    .dataframe tbody tr th {\n",
       "        vertical-align: top;\n",
       "    }\n",
       "\n",
       "    .dataframe thead th {\n",
       "        text-align: right;\n",
       "    }\n",
       "</style>\n",
       "<table border=\"1\" class=\"dataframe\">\n",
       "  <thead>\n",
       "    <tr style=\"text-align: right;\">\n",
       "      <th></th>\n",
       "      <th>Time</th>\n",
       "      <th>CO2</th>\n",
       "      <th>TimeDelta</th>\n",
       "      <th>index_diff</th>\n",
       "      <th>group</th>\n",
       "    </tr>\n",
       "  </thead>\n",
       "  <tbody>\n",
       "    <tr>\n",
       "      <th>53</th>\n",
       "      <td>2022-12-23 06:00:00</td>\n",
       "      <td>457.0</td>\n",
       "      <td>0 days 01:00:00</td>\n",
       "      <td>3.0</td>\n",
       "      <td>4</td>\n",
       "    </tr>\n",
       "    <tr>\n",
       "      <th>54</th>\n",
       "      <td>2022-12-23 07:00:00</td>\n",
       "      <td>463.0</td>\n",
       "      <td>0 days 01:00:00</td>\n",
       "      <td>1.0</td>\n",
       "      <td>4</td>\n",
       "    </tr>\n",
       "    <tr>\n",
       "      <th>55</th>\n",
       "      <td>2022-12-23 08:00:00</td>\n",
       "      <td>469.0</td>\n",
       "      <td>0 days 01:00:00</td>\n",
       "      <td>1.0</td>\n",
       "      <td>4</td>\n",
       "    </tr>\n",
       "    <tr>\n",
       "      <th>56</th>\n",
       "      <td>2022-12-23 09:00:00</td>\n",
       "      <td>545.0</td>\n",
       "      <td>0 days 01:00:00</td>\n",
       "      <td>1.0</td>\n",
       "      <td>4</td>\n",
       "    </tr>\n",
       "    <tr>\n",
       "      <th>57</th>\n",
       "      <td>2022-12-23 10:00:00</td>\n",
       "      <td>442.0</td>\n",
       "      <td>0 days 01:00:00</td>\n",
       "      <td>1.0</td>\n",
       "      <td>4</td>\n",
       "    </tr>\n",
       "    <tr>\n",
       "      <th>...</th>\n",
       "      <td>...</td>\n",
       "      <td>...</td>\n",
       "      <td>...</td>\n",
       "      <td>...</td>\n",
       "      <td>...</td>\n",
       "    </tr>\n",
       "    <tr>\n",
       "      <th>273</th>\n",
       "      <td>2023-01-01 10:00:00</td>\n",
       "      <td>466.0</td>\n",
       "      <td>0 days 01:00:00</td>\n",
       "      <td>1.0</td>\n",
       "      <td>4</td>\n",
       "    </tr>\n",
       "    <tr>\n",
       "      <th>274</th>\n",
       "      <td>2023-01-01 11:00:00</td>\n",
       "      <td>447.0</td>\n",
       "      <td>0 days 01:00:00</td>\n",
       "      <td>1.0</td>\n",
       "      <td>4</td>\n",
       "    </tr>\n",
       "    <tr>\n",
       "      <th>275</th>\n",
       "      <td>2023-01-01 12:00:00</td>\n",
       "      <td>431.0</td>\n",
       "      <td>0 days 01:00:00</td>\n",
       "      <td>1.0</td>\n",
       "      <td>4</td>\n",
       "    </tr>\n",
       "    <tr>\n",
       "      <th>276</th>\n",
       "      <td>2023-01-01 13:00:00</td>\n",
       "      <td>418.0</td>\n",
       "      <td>0 days 01:00:00</td>\n",
       "      <td>1.0</td>\n",
       "      <td>4</td>\n",
       "    </tr>\n",
       "    <tr>\n",
       "      <th>277</th>\n",
       "      <td>2023-01-01 14:00:00</td>\n",
       "      <td>417.0</td>\n",
       "      <td>0 days 01:00:00</td>\n",
       "      <td>1.0</td>\n",
       "      <td>4</td>\n",
       "    </tr>\n",
       "  </tbody>\n",
       "</table>\n",
       "<p>225 rows × 5 columns</p>\n",
       "</div>"
      ],
      "text/plain": [
       "                   Time    CO2       TimeDelta  index_diff  group\n",
       "53  2022-12-23 06:00:00  457.0 0 days 01:00:00         3.0      4\n",
       "54  2022-12-23 07:00:00  463.0 0 days 01:00:00         1.0      4\n",
       "55  2022-12-23 08:00:00  469.0 0 days 01:00:00         1.0      4\n",
       "56  2022-12-23 09:00:00  545.0 0 days 01:00:00         1.0      4\n",
       "57  2022-12-23 10:00:00  442.0 0 days 01:00:00         1.0      4\n",
       "..                  ...    ...             ...         ...    ...\n",
       "273 2023-01-01 10:00:00  466.0 0 days 01:00:00         1.0      4\n",
       "274 2023-01-01 11:00:00  447.0 0 days 01:00:00         1.0      4\n",
       "275 2023-01-01 12:00:00  431.0 0 days 01:00:00         1.0      4\n",
       "276 2023-01-01 13:00:00  418.0 0 days 01:00:00         1.0      4\n",
       "277 2023-01-01 14:00:00  417.0 0 days 01:00:00         1.0      4\n",
       "\n",
       "[225 rows x 5 columns]"
      ]
     },
     "execution_count": 33,
     "metadata": {},
     "output_type": "execute_result"
    }
   ],
   "source": [
    "largest_continuous_data = continuous_rows[continuous_rows['group'] == largest_group]\n",
    "\n",
    "largest_continuous_data"
   ]
  },
  {
   "cell_type": "code",
   "execution_count": 34,
   "metadata": {},
   "outputs": [],
   "source": [
    "largest_continuous_data = largest_continuous_data.drop(['index_diff', 'group'], axis = 1)"
   ]
  },
  {
   "cell_type": "code",
   "execution_count": 35,
   "metadata": {},
   "outputs": [
    {
     "data": {
      "image/png": "[encoded data removed]",
      "text/plain": [
       "<Figure size 1000x600 with 1 Axes>"
      ]
     },
     "metadata": {},
     "output_type": "display_data"
    }
   ],
   "source": [
    "fig, axs = plt.subplots(1, 1, figsize=(10, 6))\n",
    "axs.plot(largest_continuous_data['Time'], largest_continuous_data['CO2'], color='green', marker='o')\n",
    "axs.set_title('CO2 Concentration')\n",
    "axs.set_ylabel('CO2 (ppm)')\n",
    "axs.grid(True)\n",
    "\n",
    "\n",
    "plt.tight_layout()\n",
    "plt.show()"
   ]
  },
  {
   "cell_type": "code",
   "execution_count": 36,
   "metadata": {},
   "outputs": [
    {
     "data": {
      "text/plain": [
       "(225, 3)"
      ]
     },
     "execution_count": 36,
     "metadata": {},
     "output_type": "execute_result"
    }
   ],
   "source": [
    "largest_continuous_data.shape"
   ]
  },
  {
   "cell_type": "code",
   "execution_count": 37,
   "metadata": {},
   "outputs": [
    {
     "data": {
      "text/plain": [
       "3.7859666834931853"
      ]
     },
     "execution_count": 37,
     "metadata": {},
     "output_type": "execute_result"
    }
   ],
   "source": [
    "(len(largest_continuous_data)/len(data_frame)) * 100"
   ]
  },
  {
   "cell_type": "code",
   "execution_count": 38,
   "metadata": {},
   "outputs": [
    {
     "name": "stdout",
     "output_type": "stream",
     "text": [
      "\n",
      "Linear Regression:\n",
      "  Cross-val MSE: 1448.9454\n",
      "  Test MSE: 3782.5027\n",
      "  Test R2: -0.0951\n",
      "\n",
      "Random Forest:\n",
      "  Cross-val MSE: 1273.0261\n",
      "  Test MSE: 3280.2529\n",
      "  Test R2: 0.0503\n",
      "\n",
      "XGBoost:\n",
      "  Cross-val MSE: 1589.1661\n",
      "  Test MSE: 3758.9011\n",
      "  Test R2: -0.0882\n",
      "\n",
      "Best model based on Test MSE: Random Forest\n",
      "\n",
      "Predicted CO2 level for 2023-08-25 14:00:00: 449.48\n"
     ]
    }
   ],
   "source": [
    "import pandas as pd\n",
    "import numpy as np\n",
    "from sklearn.model_selection import train_test_split, TimeSeriesSplit, cross_val_score\n",
    "from sklearn.preprocessing import StandardScaler\n",
    "from sklearn.pipeline import Pipeline\n",
    "from sklearn.linear_model import LinearRegression\n",
    "from sklearn.ensemble import RandomForestRegressor\n",
    "from sklearn.metrics import mean_squared_error, r2_score\n",
    "from xgboost import XGBRegressor\n",
    "\n",
    "\n",
    "df = largest_continuous_data.copy()\n",
    "\n",
    "df['year'] = df['Time'].dt.year\n",
    "df['month'] = df['Time'].dt.month\n",
    "df['day'] = df['Time'].dt.day\n",
    "df['hour'] = df['Time'].dt.hour\n",
    "\n",
    "X = df[['year', 'month', 'day', 'hour']]\n",
    "y = df['CO2']\n",
    "\n",
    "\n",
    "\n",
    "split_point = int(len(df) * 0.8)\n",
    "\n",
    "X_train, X_test = X[:split_point], X[split_point:]\n",
    "y_train, y_test = y[:split_point], y[split_point:]\n",
    "\n",
    "models = {\n",
    "    'Linear Regression': LinearRegression(),\n",
    "    'Random Forest': RandomForestRegressor(random_state=42),\n",
    "    'XGBoost': XGBRegressor(random_state=42)\n",
    "}\n",
    "\n",
    "\n",
    "results = {}\n",
    "\n",
    "for name, model in models.items():\n",
    "    pipeline = Pipeline([\n",
    "        ('scaler', StandardScaler()),\n",
    "        ('model', model)\n",
    "    ])\n",
    "\n",
    "    tscv = TimeSeriesSplit(n_splits=5)\n",
    "    scores = cross_val_score(pipeline, X_train, y_train, cv=tscv, scoring='neg_mean_squared_error')\n",
    "\n",
    "\n",
    "    pipeline.fit(X_train, y_train)\n",
    "    y_pred = pipeline.predict(X_test)\n",
    "\n",
    "\n",
    "    mse = mean_squared_error(y_test, y_pred)\n",
    "    r2 = r2_score(y_test, y_pred)\n",
    "\n",
    "    results[name] = {\n",
    "        'Cross-val MSE': -np.mean(scores),\n",
    "        'Test MSE': mse,\n",
    "        'Test R2': r2\n",
    "    }\n",
    "\n",
    "\n",
    "for name, metrics in results.items():\n",
    "    print(f\"\\n{name}:\")\n",
    "    for metric, value in metrics.items():\n",
    "        print(f\"  {metric}: {value:.4f}\")\n",
    "\n",
    "\n",
    "best_model = min(results, key=lambda x: results[x]['Test MSE'])\n",
    "print(f\"\\nBest model based on Test MSE: {best_model}\")\n",
    "\n",
    "best_pipeline = Pipeline([\n",
    "    ('scaler', StandardScaler()),\n",
    "    ('model', models[best_model])\n",
    "])\n",
    "best_pipeline.fit(X_train, y_train)\n",
    "\n",
    "\n",
    "sample_date = pd.to_datetime('2023-08-25 14:00:00')\n",
    "sample_input = pd.DataFrame({\n",
    "    'year': [sample_date.year],\n",
    "    'month': [sample_date.month],\n",
    "    'day': [sample_date.day],\n",
    "    'hour': [sample_date.hour]\n",
    "})\n",
    "\n",
    "prediction = best_pipeline.predict(sample_input)\n",
    "print(f\"\\nPredicted CO2 level for {sample_date}: {prediction[0]:.2f}\")"
   ]
  },
  {
   "cell_type": "code",
   "execution_count": 43,
   "metadata": {},
   "outputs": [
    {
     "name": "stdout",
     "output_type": "stream",
     "text": [
      "Mean Squared Error: 893.2996228526233\n"
     ]
    }
   ],
   "source": [
    "import pandas as pd\n",
    "import numpy as np\n",
    "from statsmodels.tsa.arima.model import ARIMA\n",
    "from sklearn.metrics import mean_squared_error , r2_score\n",
    "from math import sqrt\n",
    "from warnings import catch_warnings, filterwarnings\n",
    "filterwarnings(\"ignore\")\n",
    "\n",
    "\n",
    "def predict_co2_levels(df, forecast_horizon=10):\n",
    "    \"\"\"\n",
    "    Predict CO2 levels using ARIMA model.\n",
    "\n",
    "    Parameters:\n",
    "    df (pandas.DataFrame): DataFrame with 'Time' and 'CO2' columns\n",
    "    forecast_horizon (int): Number of future time points to predict\n",
    "\n",
    "    Returns:\n",
    "    tuple: (predictions, mse, rmse)\n",
    "    \"\"\"\n",
    "\n",
    "    df = df.sort_values('Time')\n",
    "\n",
    "\n",
    "    df.set_index('Time', inplace=True)\n",
    "\n",
    "\n",
    "    # You may need to adjust the order (p,d,q) based on your specific data\n",
    "    model = ARIMA(df['CO2'], order=(1,1,1))\n",
    "    results = model.fit()\n",
    "\n",
    "    # Make predictions\n",
    "    predictions = results.forecast(steps=forecast_horizon)\n",
    "\n",
    "    # Calculate Mean Squared Error and Root Mean Squared Error\n",
    "    mse = mean_squared_error(df['CO2'][-forecast_horizon:], predictions)\n",
    "\n",
    "    return predictions, mse\n",
    "\n",
    "# Example usage:\n",
    "# Assuming 'df' is your DataFrame with 'Time' and 'CO2' columns\n",
    "predictions, mse, = predict_co2_levels(largest_continuous_data)\n",
    "# print(f\"Predictions: {predictions}\")\n",
    "print(f\"Mean Squared Error: {mse}\")"
   ]
  },
  {
   "cell_type": "code",
   "execution_count": 47,
   "metadata": {},
   "outputs": [
    {
     "name": "stderr",
     "output_type": "stream",
     "text": [
      "Importing plotly failed. Interactive plots will not work.\n",
      "12:16:06 - cmdstanpy - INFO - Chain [1] start processing\n",
      "12:16:07 - cmdstanpy - INFO - Chain [1] done processing\n"
     ]
    },
    {
     "data": {
      "image/png": "[encoded data removed]",
      "text/plain": [
       "<Figure size 1000x600 with 1 Axes>"
      ]
     },
     "metadata": {},
     "output_type": "display_data"
    },
    {
     "name": "stdout",
     "output_type": "stream",
     "text": [
      "Root Mean Squared Error (RMSE): 54.45023788502452\n"
     ]
    }
   ],
   "source": [
    "import pandas as pd\n",
    "from prophet import Prophet\n",
    "import matplotlib.pyplot as plt\n",
    "\n",
    "# Assuming df is the DataFrame with the data, and it contains the 'Time' and 'CO2' columns\n",
    "\n",
    "# Prepare the data for the Prophet model\n",
    "df_prophet = largest_continuous_data[['Time', 'CO2']].rename(columns={'Time': 'ds', 'CO2': 'y'})\n",
    "\n",
    "# Split the data into training and testing sets\n",
    "train_size = int(len(df_prophet) * 0.8)\n",
    "train_data = df_prophet[:train_size]\n",
    "test_data = df_prophet[train_size:]\n",
    "\n",
    "# Create and fit the Prophet model with the training data\n",
    "model = Prophet()\n",
    "model.fit(train_data)\n",
    "\n",
    "# Make predictions on the test data\n",
    "forecast = model.predict(test_data[['ds']])\n",
    "\n",
    "# Plot actual vs predicted values\n",
    "plt.figure(figsize=(10, 6))\n",
    "plt.plot(test_data['ds'], test_data['y'], label='Actual', color='blue')\n",
    "plt.plot(test_data['ds'], forecast['yhat'], label='Predicted', color='red')\n",
    "plt.title('Actual vs Predicted CO2 Concentration')\n",
    "plt.xlabel('Time')\n",
    "plt.ylabel('CO2 (ppm)')\n",
    "plt.legend()\n",
    "plt.grid(True)\n",
    "plt.show()\n",
    "\n",
    "# Calculate RMSE\n",
    "mse = mean_squared_error(test_data['y'], forecast['yhat'])\n",
    "rmse = np.sqrt(mse)\n",
    "print('Root Mean Squared Error (RMSE):', rmse)"
   ]
  },
  {
   "cell_type": "code",
   "execution_count": null,
   "metadata": {},
   "outputs": [],
   "source": []
  }
 ],
 "metadata": {
  "kernelspec": {
   "display_name": "Python 3",
   "language": "python",
   "name": "python3"
  },
  "language_info": {
   "codemirror_mode": {
    "name": "ipython",
    "version": 3
   },
   "file_extension": ".py",
   "mimetype": "text/x-python",
   "name": "python",
   "nbconvert_exporter": "python",
   "pygments_lexer": "ipython3",
   "version": "3.12.6"
  }
 },
 "nbformat": 4,
 "nbformat_minor": 2
}
