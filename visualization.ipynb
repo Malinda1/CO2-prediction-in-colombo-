{
 "cells": [
  {
   "cell_type": "code",
   "execution_count": null,
   "metadata": {},
   "outputs": [],
   "source": [
    "import numpy as np\n",
    "import pandas as pd\n",
    "import matplotlib.pyplot as plt\n",
    "\n",
    "# Generate Month array with integers from 1 to 12\n",
    "months = np.arange(1, 13)\n",
    "\n",
    "# Generate Sales array with 12 random integers between 50 and 150\n",
    "sales = np.random.randint(50, 151, 12)\n",
    "\n",
    "# Create DataFrame\n",
    "df = pd.DataFrame({\n",
    "    \"Month\": months,\n",
    "    \"Sales\": sales\n",
    "})\n",
    "\n",
    "# Plotting the sales trend over 12 months\n",
    "plt.figure(figsize=(10, 6))\n",
    "plt.plot(df[\"Month\"], df[\"Sales\"], marker='o', color=\"green\", label=\"Sales\")\n",
    "plt.title(\"Sales Trend Over 12 Months\")\n",
    "plt.xlabel(\"Month\")\n",
    "plt.ylabel(\"Sales\")\n",
    "plt.xticks(months)  # Ensure each month is labeled\n",
    "plt.grid(True)\n",
    "plt.legend()\n",
    "plt.show()\n",
    "\n",
    "# Display DataFrame for reference\n",
    "print(df)"
   ]
  },
  {
   "cell_type": "code",
   "execution_count": null,
   "metadata": {},
   "outputs": [],
   "source": []
  }
 ],
 "metadata": {
  "kernelspec": {
   "display_name": "Python 3",
   "language": "python",
   "name": "python3"
  },
  "language_info": {
   "name": "python",
   "version": "3.12.6"
  }
 },
 "nbformat": 4,
 "nbformat_minor": 2
}
